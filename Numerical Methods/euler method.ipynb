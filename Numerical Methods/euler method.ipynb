{
 "cells": [
  {
   "cell_type": "markdown",
   "id": "128f6843-c50c-4d54-b407-e3e2086c617a",
   "metadata": {},
   "source": [
    "# Euler's Method"
   ]
  },
  {
   "cell_type": "markdown",
   "id": "e1edecd6-d8c2-4679-b868-a30e884b4ec6",
   "metadata": {},
   "source": [
    "### How to define a function?"
   ]
  },
  {
   "cell_type": "code",
   "execution_count": 6,
   "id": "fb67a25f-aa4a-44bd-8d09-721db93da44a",
   "metadata": {},
   "outputs": [],
   "source": [
    "def f(x):\n",
    "    a=2\n",
    "    return a*x**2"
   ]
  },
  {
   "cell_type": "code",
   "execution_count": 7,
   "id": "b5d0834e-cbaf-4557-a001-98f05182c1f2",
   "metadata": {},
   "outputs": [
    {
     "data": {
      "text/plain": [
       "2"
      ]
     },
     "execution_count": 7,
     "metadata": {},
     "output_type": "execute_result"
    }
   ],
   "source": [
    "f(1)"
   ]
  },
  {
   "cell_type": "code",
   "execution_count": 8,
   "id": "8bc0e876-221c-4b96-a6dd-266dfa3bbd4b",
   "metadata": {},
   "outputs": [
    {
     "data": {
      "text/plain": [
       "18"
      ]
     },
     "execution_count": 8,
     "metadata": {},
     "output_type": "execute_result"
    }
   ],
   "source": [
    "f(3)"
   ]
  },
  {
   "cell_type": "markdown",
   "id": "f8a550dd-37c6-4d38-9a6f-4cbe28bb1a43",
   "metadata": {},
   "source": [
    "## Solving two differential equation:"
   ]
  },
  {
   "cell_type": "markdown",
   "id": "71ddbb3f-f092-4494-9e32-b6573f309ea3",
   "metadata": {},
   "source": [
    "### First Example:"
   ]
  },
  {
   "cell_type": "code",
   "execution_count": 53,
   "id": "a7e30638-3243-465a-824e-f64bd839de72",
   "metadata": {},
   "outputs": [
    {
     "name": "stdin",
     "output_type": "stream",
     "text": [
      "X0= 0\n",
      "Y0= 0\n",
      "h= 0.2\n",
      "n= 15\n"
     ]
    }
   ],
   "source": [
    "def f(x,y):\n",
    "    return x+y\n",
    "\n",
    "#Initial condition\n",
    "\n",
    "x0=float(input(\"X0=\"))\n",
    "y0=float(input(\"Y0=\"))\n",
    "h=float(input(\"h=\"))\n",
    "n=int(input(\"n=\"))"
   ]
  },
  {
   "cell_type": "code",
   "execution_count": 54,
   "id": "f154df60-0d6e-4c38-a743-a483d177c381",
   "metadata": {},
   "outputs": [
    {
     "name": "stdout",
     "output_type": "stream",
     "text": [
      "value of y at x 0.2 is= 0.0\n",
      "value of y at x 0.4 is= 0.04000000000000001\n",
      "value of y at x 0.6000000000000001 is= 0.12800000000000003\n",
      "value of y at x 0.8 is= 0.27360000000000007\n",
      "value of y at x 1.0 is= 0.4883200000000001\n",
      "value of y at x 1.2 is= 0.7859840000000001\n",
      "value of y at x 1.4 is= 1.1831808000000001\n",
      "value of y at x 1.5999999999999999 is= 1.6998169600000002\n",
      "value of y at x 1.7999999999999998 is= 2.3597803520000005\n",
      "value of y at x 1.9999999999999998 is= 3.1917364224000004\n",
      "value of y at x 2.1999999999999997 is= 4.23008370688\n",
      "value of y at x 2.4 is= 5.516100448256\n",
      "value of y at x 2.6 is= 7.0993205379072\n",
      "value of y at x 2.8000000000000003 is= 9.03918464548864\n",
      "value of y at x 3.0000000000000004 is= 11.40702157458637\n"
     ]
    }
   ],
   "source": [
    "for i in range(n):\n",
    "    y1=y0+h*f(x0,y0)\n",
    "    x0=x0+h\n",
    "    y0=y1\n",
    "    print (\"value of y at x\",x0,\"is=\", y0)"
   ]
  },
  {
   "cell_type": "markdown",
   "id": "6f6200f7-7755-4ec8-bbcf-2c48b2078c04",
   "metadata": {},
   "source": [
    "### Second Example:"
   ]
  },
  {
   "cell_type": "code",
   "execution_count": 58,
   "id": "d8c3822d-4eea-45c8-94e2-f602d8d9419f",
   "metadata": {},
   "outputs": [],
   "source": [
    "#Define function\n",
    "\n",
    "# f_prime = (1+ x )* y**2\n",
    "\n",
    "\n",
    "def f_prime(x,y):                     \n",
    "    return (1+x)*y**2 "
   ]
  },
  {
   "cell_type": "code",
   "execution_count": 59,
   "id": "a1bb953a-17fd-45bd-bbef-c6c1d9fadc3d",
   "metadata": {},
   "outputs": [
    {
     "data": {
      "text/plain": [
       "18"
      ]
     },
     "execution_count": 59,
     "metadata": {},
     "output_type": "execute_result"
    }
   ],
   "source": [
    "f_prime(1,3)"
   ]
  },
  {
   "cell_type": "code",
   "execution_count": 62,
   "id": "f4a6b929-5c63-422a-842f-203b92da111a",
   "metadata": {},
   "outputs": [
    {
     "name": "stdin",
     "output_type": "stream",
     "text": [
      "X0= 0\n",
      "Y0= 0\n",
      "h= 0.2\n",
      "n= 5\n"
     ]
    }
   ],
   "source": [
    "#Initial condition\n",
    "\n",
    "x0=float(input(\"X0=\"))\n",
    "y0=float(input(\"Y0=\"))\n",
    "h=float(input(\"h=\"))         #step size\n",
    "n=int(input(\"n=\"))           #number of steps"
   ]
  },
  {
   "cell_type": "code",
   "execution_count": 63,
   "id": "fc8d715e-b5f8-4d66-bd86-ac55c8e37cdc",
   "metadata": {},
   "outputs": [
    {
     "name": "stdout",
     "output_type": "stream",
     "text": [
      "value of y at x 0.2 is= 0.0\n",
      "value of y at x 0.4 is= 0.04000000000000001\n",
      "value of y at x 0.6000000000000001 is= 0.12800000000000003\n",
      "value of y at x 0.8 is= 0.27360000000000007\n",
      "value of y at x 1.0 is= 0.4883200000000001\n"
     ]
    }
   ],
   "source": [
    "#Loop to apply Euler method\n",
    "\n",
    "for i in range(n):\n",
    "    y1=y0+h*f(x0,y0)\n",
    "    x0=x0+h\n",
    "    y0=y1\n",
    "    print (\"value of y at x\",x0,\"is=\", y0)"
   ]
  },
  {
   "cell_type": "markdown",
   "id": "e02474ba-2f78-4809-930d-9270422c74b4",
   "metadata": {},
   "source": [
    "### Third Example:"
   ]
  },
  {
   "cell_type": "code",
   "execution_count": 1,
   "id": "c32b293f-d964-4a00-bfed-5cafecfd1c20",
   "metadata": {},
   "outputs": [
    {
     "data": {
      "image/png": "[encoded data removed]",
      "text/plain": [
       "<Figure size 640x480 with 1 Axes>"
      ]
     },
     "metadata": {},
     "output_type": "display_data"
    }
   ],
   "source": [
    "import numpy as np\n",
    "import matplotlib.pyplot as plt\n",
    "\n",
    "# define the differential equation to be solved\n",
    "def f(t, y):\n",
    "    return -y + 1\n",
    "\n",
    "# define the initial condition\n",
    "y0 = 0\n",
    "\n",
    "# define the time interval and step size\n",
    "t0 = 0\n",
    "tn = 5\n",
    "h = 0.1\n",
    "\n",
    "# initialize the solution array\n",
    "t = np.arange(t0, tn + h, h)\n",
    "y = np.zeros_like(t)\n",
    "y[0] = y0\n",
    "\n",
    "# apply the Euler method\n",
    "for i in range(1, len(t)):\n",
    "    y[i] = y[i-1] + h*f(t[i-1], y[i-1])\n",
    "\n",
    "# plot the solution\n",
    "plt.plot(t, y)\n",
    "plt.xlabel('t')\n",
    "plt.ylabel('y')\n",
    "plt.show()"
   ]
  },
  {
   "cell_type": "code",
   "execution_count": null,
   "id": "90c5eb2f-bbbd-450d-b0b3-7addcbee6e08",
   "metadata": {},
   "outputs": [],
   "source": []
  },
  {
   "cell_type": "code",
   "execution_count": null,
   "id": "8d23bd11-9c2b-4756-952d-4722f5a11d71",
   "metadata": {},
   "outputs": [],
   "source": []
  },
  {
   "cell_type": "code",
   "execution_count": null,
   "id": "c77b464d-aec2-4e0f-a6c6-d10b91830628",
   "metadata": {},
   "outputs": [],
   "source": []
  },
  {
   "cell_type": "code",
   "execution_count": null,
   "id": "f3baaa52-0d23-4140-8f27-cf865675c90b",
   "metadata": {},
   "outputs": [],
   "source": []
  },
  {
   "cell_type": "code",
   "execution_count": null,
   "id": "c06b5422-3f8f-4ff5-a42f-cc679cc50281",
   "metadata": {},
   "outputs": [],
   "source": []
  },
  {
   "cell_type": "markdown",
   "id": "2329b98b-d454-4266-91a9-f7e2631743bd",
   "metadata": {},
   "source": [
    "## Ali's Gift for tensorflow installation"
   ]
  },
  {
   "cell_type": "code",
   "execution_count": 51,
   "id": "35fa1e96-927f-4add-8021-cbfb431f0e25",
   "metadata": {},
   "outputs": [
    {
     "name": "stdout",
     "output_type": "stream",
     "text": [
      "jorab\n"
     ]
    }
   ],
   "source": [
    "import random as ran\n",
    "\n",
    "a=ran.random()\n",
    "\n",
    "if a<0.5 :\n",
    "    print(\"jorab\")\n",
    "else :\n",
    "    print(\"tohi\")    #نفس ها در سینه حبسسسسسسس"
   ]
  },
  {
   "cell_type": "code",
   "execution_count": null,
   "id": "703a6422-72ee-4399-80b2-0fd38941ce57",
   "metadata": {},
   "outputs": [],
   "source": []
  },
  {
   "cell_type": "code",
   "execution_count": null,
   "id": "93612752-1700-4fbe-be0d-10604e15d0b1",
   "metadata": {},
   "outputs": [],
   "source": []
  }
 ],
 "metadata": {
  "kernelspec": {
   "display_name": "Python 3 (ipykernel)",
   "language": "python",
   "name": "python3"
  },
  "language_info": {
   "codemirror_mode": {
    "name": "ipython",
    "version": 3
   },
   "file_extension": ".py",
   "mimetype": "text/x-python",
   "name": "python",
   "nbconvert_exporter": "python",
   "pygments_lexer": "ipython3",
   "version": "3.9.0"
  }
 },
 "nbformat": 4,
 "nbformat_minor": 5
}
