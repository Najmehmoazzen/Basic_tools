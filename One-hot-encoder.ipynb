{
 "cells": [
  {
   "cell_type": "markdown",
   "id": "56683a32-4a4d-437d-aabb-8b5175b96a93",
   "metadata": {},
   "source": [
    "# One-Hot Encoder"
   ]
  },
  {
   "cell_type": "markdown",
   "id": "7f0578f7-ef20-4f6c-b745-e063d89084cc",
   "metadata": {},
   "source": [
    "### Example 1:"
   ]
  },
  {
   "cell_type": "code",
   "execution_count": 3,
   "id": "7a7839a0-97ae-47bb-88ef-81a601d289df",
   "metadata": {},
   "outputs": [
    {
     "data": {
      "text/html": [
       "<div>\n",
       "<style scoped>\n",
       "    .dataframe tbody tr th:only-of-type {\n",
       "        vertical-align: middle;\n",
       "    }\n",
       "\n",
       "    .dataframe tbody tr th {\n",
       "        vertical-align: top;\n",
       "    }\n",
       "\n",
       "    .dataframe thead th {\n",
       "        text-align: right;\n",
       "    }\n",
       "</style>\n",
       "<table border=\"1\" class=\"dataframe\">\n",
       "  <thead>\n",
       "    <tr style=\"text-align: right;\">\n",
       "      <th></th>\n",
       "      <th>Gender</th>\n",
       "      <th>Age</th>\n",
       "      <th>Salary</th>\n",
       "      <th>Purchased</th>\n",
       "    </tr>\n",
       "  </thead>\n",
       "  <tbody>\n",
       "    <tr>\n",
       "      <th>0</th>\n",
       "      <td>male</td>\n",
       "      <td>25</td>\n",
       "      <td>50000</td>\n",
       "      <td>0</td>\n",
       "    </tr>\n",
       "    <tr>\n",
       "      <th>1</th>\n",
       "      <td>female</td>\n",
       "      <td>30</td>\n",
       "      <td>60000</td>\n",
       "      <td>1</td>\n",
       "    </tr>\n",
       "    <tr>\n",
       "      <th>2</th>\n",
       "      <td>male</td>\n",
       "      <td>35</td>\n",
       "      <td>70000</td>\n",
       "      <td>0</td>\n",
       "    </tr>\n",
       "    <tr>\n",
       "      <th>3</th>\n",
       "      <td>female</td>\n",
       "      <td>40</td>\n",
       "      <td>80000</td>\n",
       "      <td>1</td>\n",
       "    </tr>\n",
       "    <tr>\n",
       "      <th>4</th>\n",
       "      <td>male</td>\n",
       "      <td>45</td>\n",
       "      <td>90000</td>\n",
       "      <td>1</td>\n",
       "    </tr>\n",
       "  </tbody>\n",
       "</table>\n",
       "</div>"
      ],
      "text/plain": [
       "   Gender  Age  Salary  Purchased\n",
       "0    male   25   50000          0\n",
       "1  female   30   60000          1\n",
       "2    male   35   70000          0\n",
       "3  female   40   80000          1\n",
       "4    male   45   90000          1"
      ]
     },
     "execution_count": 3,
     "metadata": {},
     "output_type": "execute_result"
    }
   ],
   "source": [
    "import pandas as pd\n",
    "\n",
    "data = pd.DataFrame({\n",
    "    \"Gender\": [\"male\", \"female\", \"male\", \"female\", \"male\"],\n",
    "    \"Age\": [25, 30, 35, 40, 45],\n",
    "    \"Salary\": [50000, 60000, 70000, 80000, 90000],\n",
    "    \"Purchased\": [0, 1, 0, 1, 1]\n",
    "})\n",
    "\n",
    "#print(data)\n",
    "data"
   ]
  },
  {
   "cell_type": "code",
   "execution_count": 5,
   "id": "950e6b66-e2b5-4fb8-8400-068abbf35896",
   "metadata": {},
   "outputs": [
    {
     "name": "stdout",
     "output_type": "stream",
     "text": [
      "[[0.0e+00 1.0e+00 2.5e+01 5.0e+04 0.0e+00]\n",
      " [1.0e+00 0.0e+00 3.0e+01 6.0e+04 1.0e+00]\n",
      " [0.0e+00 1.0e+00 3.5e+01 7.0e+04 0.0e+00]\n",
      " [1.0e+00 0.0e+00 4.0e+01 8.0e+04 1.0e+00]\n",
      " [0.0e+00 1.0e+00 4.5e+01 9.0e+04 1.0e+00]]\n"
     ]
    },
    {
     "data": {
      "text/plain": [
       "array([[0.0e+00, 1.0e+00, 2.5e+01, 5.0e+04, 0.0e+00],\n",
       "       [1.0e+00, 0.0e+00, 3.0e+01, 6.0e+04, 1.0e+00],\n",
       "       [0.0e+00, 1.0e+00, 3.5e+01, 7.0e+04, 0.0e+00],\n",
       "       [1.0e+00, 0.0e+00, 4.0e+01, 8.0e+04, 1.0e+00],\n",
       "       [0.0e+00, 1.0e+00, 4.5e+01, 9.0e+04, 1.0e+00]])"
      ]
     },
     "execution_count": 5,
     "metadata": {},
     "output_type": "execute_result"
    }
   ],
   "source": [
    "from sklearn.compose import ColumnTransformer\n",
    "from sklearn.preprocessing import OneHotEncoder\n",
    "\n",
    "# define the columns to be encoded\n",
    "columns_to_encode = [\"Gender\"]\n",
    "\n",
    "# create the transformer\n",
    "ct = ColumnTransformer(\n",
    "    transformers=[(\"encoder\", OneHotEncoder(), columns_to_encode)],\n",
    "    remainder=\"passthrough\"\n",
    ")\n",
    "\n",
    "# apply the transformer to the dataset\n",
    "data_encoded = ct.fit_transform(data)\n",
    "\n",
    "print(data_encoded)"
   ]
  },
  {
   "cell_type": "code",
   "execution_count": 6,
   "id": "9b16df1a-2377-4402-8376-2ae9e5d6b846",
   "metadata": {},
   "outputs": [
    {
     "name": "stdout",
     "output_type": "stream",
     "text": [
      "[1.]\n"
     ]
    }
   ],
   "source": [
    "from sklearn.linear_model import LogisticRegression\n",
    "\n",
    "# separate the input variables from the target variable\n",
    "X = data_encoded[:, :-1]\n",
    "y = data_encoded[:, -1]\n",
    "\n",
    "# train a logistic regression model on the encoded dataset\n",
    "model = LogisticRegression().fit(X, y)\n",
    "\n",
    "# make predictions on new data\n",
    "new_data = [[1, 0, 50, 100000]]  # male, 50 years old, salary $100,000\n",
    "prediction = model.predict(new_data)\n",
    "print(prediction)"
   ]
  },
  {
   "cell_type": "markdown",
   "id": "e8eb4db0-dd5d-469a-a888-610990d0b4f8",
   "metadata": {},
   "source": [
    "### Example 2:"
   ]
  },
  {
   "cell_type": "code",
   "execution_count": null,
   "id": "5eec71e9-2c88-4686-bd9d-212343d19344",
   "metadata": {},
   "outputs": [],
   "source": [
    "# 2 Class\n",
    "\n",
    "from sklearn.preprocessing import OneHotEncoder\n",
    "import numpy as np\n",
    "\n",
    "# Create an example dataset with a categorical feature\n",
    "X = np.array([['sup'], ['sub']])\n",
    "\n",
    "# Create the One Hot Encoder object\n",
    "encoder = OneHotEncoder()\n",
    "\n",
    "# Fit the encoder to the dataset and transform the data\n",
    "X_encoded = encoder.fit_transform(X)\n",
    "\n",
    "# Print the encoded data\n",
    "print(X_encoded.toarray())"
   ]
  },
  {
   "cell_type": "markdown",
   "id": "3fc3039c-bd70-44dc-8afd-f0fd5e30c0a5",
   "metadata": {},
   "source": [
    "### Example 3:"
   ]
  },
  {
   "cell_type": "code",
   "execution_count": 14,
   "id": "88da478f-4656-4bbf-b114-a605b1e2eb72",
   "metadata": {},
   "outputs": [
    {
     "name": "stdout",
     "output_type": "stream",
     "text": [
      "[[1. 0. 0. 0.]\n",
      " [0. 1. 0. 0.]\n",
      " [0. 0. 1. 0.]\n",
      " [0. 0. 1. 0.]\n",
      " [1. 0. 0. 0.]\n",
      " [0. 0. 0. 1.]]\n"
     ]
    }
   ],
   "source": [
    "# 4 Class\n",
    "from sklearn.preprocessing import OneHotEncoder\n",
    "import numpy as np\n",
    "\n",
    "# Create an example dataset with a categorical feature\n",
    "X = np.array([['bird'], ['cat'],['dog'], ['dog'],['bird'], ['insect']])\n",
    "\n",
    "# Create the One Hot Encoder object\n",
    "encoder = OneHotEncoder()\n",
    "\n",
    "# Fit the encoder to the dataset and transform the data\n",
    "X_encoded = encoder.fit_transform(X)\n",
    "\n",
    "# Print the encoded data\n",
    "print(X_encoded.toarray())"
   ]
  },
  {
   "cell_type": "markdown",
   "id": "3401ccc0-1cdb-411b-b882-24fa33b30061",
   "metadata": {},
   "source": [
    "### Example 4:"
   ]
  },
  {
   "cell_type": "code",
   "execution_count": 15,
   "id": "799b583c-9821-49b0-8356-a538d9b8d559",
   "metadata": {},
   "outputs": [
    {
     "name": "stdout",
     "output_type": "stream",
     "text": [
      "    Disease  Age  BloodPressure\n",
      "0  positive   25            120\n",
      "1  negative   30            130\n",
      "2  negative   35            140\n",
      "3  positive   40            150\n",
      "4  negative   45            160\n"
     ]
    }
   ],
   "source": [
    "import pandas as pd\n",
    "\n",
    "data = pd.DataFrame({\n",
    "    \"Disease\": [\"positive\", \"negative\", \"negative\", \"positive\", \"negative\"],\n",
    "    \"Age\": [25, 30, 35, 40, 45],\n",
    "    \"BloodPressure\": [120, 130, 140, 150, 160]\n",
    "})\n",
    "\n",
    "print(data)"
   ]
  },
  {
   "cell_type": "code",
   "execution_count": 16,
   "id": "5d381962-3435-430c-be03-2dda88b2b254",
   "metadata": {},
   "outputs": [
    {
     "name": "stdout",
     "output_type": "stream",
     "text": [
      "[[  0.   1.  25. 120.]\n",
      " [  1.   0.  30. 130.]\n",
      " [  1.   0.  35. 140.]\n",
      " [  0.   1.  40. 150.]\n",
      " [  1.   0.  45. 160.]]\n"
     ]
    }
   ],
   "source": [
    "from sklearn.compose import ColumnTransformer\n",
    "from sklearn.preprocessing import OneHotEncoder\n",
    "\n",
    "# define the columns to be encoded\n",
    "columns_to_encode = [\"Disease\"]\n",
    "\n",
    "# create the transformer\n",
    "ct = ColumnTransformer(\n",
    "    transformers=[(\"encoder\", OneHotEncoder(), columns_to_encode)],\n",
    "    remainder=\"passthrough\"\n",
    ")\n",
    "\n",
    "# apply the transformer to the dataset\n",
    "data_encoded = ct.fit_transform(data)\n",
    "\n",
    "print(data_encoded)"
   ]
  },
  {
   "cell_type": "code",
   "execution_count": 13,
   "id": "4d23aadf-f83e-487d-a202-83d9d828e642",
   "metadata": {},
   "outputs": [
    {
     "name": "stdout",
     "output_type": "stream",
     "text": [
      "Accuracy: 0.0\n"
     ]
    }
   ],
   "source": [
    "from sklearn.linear_model import LogisticRegression\n",
    "from sklearn.model_selection import train_test_split\n",
    "from sklearn.metrics import accuracy_score\n",
    "\n",
    "# separate the input variables from the target variable\n",
    "X = data_encoded[:, 1:]\n",
    "y = data_encoded[:, 0]\n",
    "\n",
    "# split the dataset into training and testing sets\n",
    "X_train, X_test, y_train, y_test = train_test_split(X, y, test_size=0.2, random_state=42)\n",
    "\n",
    "# train a logistic regression model on the training set\n",
    "model = LogisticRegression().fit(X_train, y_train)\n",
    "\n",
    "# make predictions on the testing set\n",
    "y_pred = model.predict(X_test)\n",
    "\n",
    "# evaluate the accuracy of the model\n",
    "accuracy = accuracy_score(y_test, y_pred)\n",
    "print(\"Accuracy:\", accuracy)"
   ]
  },
  {
   "cell_type": "code",
   "execution_count": 24,
   "id": "e2928703-4004-4968-bd19-5ab6f5bc5b9c",
   "metadata": {},
   "outputs": [
    {
     "name": "stdout",
     "output_type": "stream",
     "text": [
      "[[  1.  25. 120.]\n",
      " [  0.  30. 130.]\n",
      " [  0.  35. 140.]\n",
      " [  1.  40. 150.]\n",
      " [  0.  45. 160.]]\n",
      "[0. 1. 1. 0. 1.]\n"
     ]
    },
    {
     "data": {
      "text/plain": [
       "array([[  0.,   1.,  25., 120.],\n",
       "       [  1.,   0.,  30., 130.],\n",
       "       [  1.,   0.,  35., 140.],\n",
       "       [  0.,   1.,  40., 150.],\n",
       "       [  1.,   0.,  45., 160.]])"
      ]
     },
     "execution_count": 24,
     "metadata": {},
     "output_type": "execute_result"
    }
   ],
   "source": [
    "X = data_encoded[:, 1:]\n",
    "y = data_encoded[:, 0]\n",
    "#print(X)\n",
    "print(y)\n",
    "#y\n",
    "data_encoded"
   ]
  },
  {
   "cell_type": "code",
   "execution_count": null,
   "id": "e5f44712-0794-4798-995b-fad2d76273a8",
   "metadata": {},
   "outputs": [],
   "source": []
  }
 ],
 "metadata": {
  "kernelspec": {
   "display_name": "Python 3 (ipykernel)",
   "language": "python",
   "name": "python3"
  },
  "language_info": {
   "codemirror_mode": {
    "name": "ipython",
    "version": 3
   },
   "file_extension": ".py",
   "mimetype": "text/x-python",
   "name": "python",
   "nbconvert_exporter": "python",
   "pygments_lexer": "ipython3",
   "version": "3.9.0"
  }
 },
 "nbformat": 4,
 "nbformat_minor": 5
}
